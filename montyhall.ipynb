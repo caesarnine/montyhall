# -*- coding: utf-8 -*-
# <nbformat>3.0</nbformat>

# <codecell>

import numpy as np
import random

# <headingcell level=2>

# First, a function to simulate the door the prize is hidden behind. 

# <codecell>

def simulate_prizedoor(nsim):
    answer=np.random.randint(0,3,nsim)
    return answer

print simulate_prizedoor(3)

# <headingcell level=2>

# Next, a function to simulate the guesses of a participant. In this case, we assume they are just random.

# <codecell>

def simulate_guess(nsim):
    answer = np.random.randint(0,3,nsim)
    return answer
print simulate_guess(3)

# <headingcell level=2>

# And then, a function to simulate the goat doors; which is a door that the prize isn't behind. 

# <codecell>

def goat_door(prizedoors, guesses):
    result = np.empty(0)
    for door in range(0,len(prizedoors)):
        answer = [0,1,2]
        answer.pop(answer.index(prizedoors[door]))
        if guesses[door] in answer:
            answer.pop(answer.index(guesses[door]))
        result = np.append(result,(random.choice(answer)))
    return result.astype(int)

print goat_door(np.array([0, 1, 2]), np.array([1,1,1]))

# <headingcell level=2>

# Continuing, a function to simulate if the participant changes his/her guess based on the opened goat door.

# <codecell>

def switch_guess(guesses, goatdoors):
    result = np.empty(0)
    for door in range(0,len(guesses)):
        answer = [0,1,2]
        answer.remove(guesses[door])
        answer.remove(goatdoors[door])
        result = np.append(result,answer)
    return result.astype(int)

print switch_guess(np.array([0,1,2]),np.array([1,0,1]))

# <headingcell level=2>

# Last, a function to calculate the winning percentage over multiple simulations.

# <codecell>

def win_percentage(guesses, prizedoors):
    wins = float()
    for i in range(0,len(guesses)):
        if guesses[i] == prizedoors[i]:
            wins += 1
    return wins/len(guesses) * 100

print win_percentage(np.array([0,1,2]), np.array([0,0,0]))

# <headingcell level=2>

# Finally, let's pull it all together, and run 30,000 simulations to see whether it's better to switch doors or not.

# <codecell>

guesses = simulate_guess(30000)
prizedoors = simulate_prizedoor(30000)
goatdoors = goat_door(prizedoors,guesses)


switchedguesses = switch_guess(guesses, goatdoors)

print "The win percentage is " + str(win_percentage(guesses,prizedoors)) + " if doors aren't switched."
print "The win percentage is " + str(win_percentage(switchedguesses,prizedoors)) + " if doors are switched."

